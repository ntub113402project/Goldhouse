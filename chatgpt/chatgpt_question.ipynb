{
 "cells": [
  {
   "cell_type": "code",
   "execution_count": 5,
   "id": "1afb0265-f82b-40b7-b2c6-4dc55ea17d77",
   "metadata": {},
   "outputs": [
    {
     "name": "stdout",
     "output_type": "stream",
     "text": [
      "Name: openai\n",
      "Version: 0.28.0\n",
      "Summary: Python client library for the OpenAI API\n",
      "Home-page: https://github.com/openai/openai-python\n",
      "Author: OpenAI\n",
      "Author-email: support@openai.com\n",
      "License: \n",
      "Location: C:\\ProgramData\\anaconda3\\Lib\\site-packages\n",
      "Requires: aiohttp, requests, tqdm\n",
      "Required-by: \n",
      "Note: you may need to restart the kernel to use updated packages.\n"
     ]
    }
   ],
   "source": [
    "pip show openai"
   ]
  },
  {
   "cell_type": "code",
   "execution_count": 1,
   "id": "0feb2bf5-bd88-4377-9241-9dc7af4f1de8",
   "metadata": {},
   "outputs": [
    {
     "name": "stdout",
     "output_type": "stream",
     "text": [
      "請輸入HID： 16356457\n",
      "請輸入您的提問： 附近捷運\n"
     ]
    },
    {
     "name": "stdout",
     "output_type": "stream",
     "text": [
      "您查詢的房屋物件為 16356457\n",
      "您提問的問題是 附近捷運\n",
      "根據房屋資訊，這間房屋距離最近的捷運站有兩個選擇。距離最近的捷運站是雙連站，距離165公尺。而第二近的捷運站是中山站，距離407公尺。可以根據個人需求和方便性選擇搭乘這兩個站點的捷運。希望這些資訊對您有所幫助。如果您對這些站點的具體時間表或路線有更多問題，建議直接向捷運站查詢或者使用相關交通應用程式進行查詢。\n"
     ]
    }
   ],
   "source": [
    "#pip install openai==0.28\n",
    "import openai\n",
    "from py2neo import Graph\n",
    "\n",
    "\n",
    "openai.api_key = \"openai的key\"\n",
    "\n",
    "\n",
    "graph = Graph(\"bolt://localhost:7687\", auth=(\"neo4j\", \"12345678\"))\n",
    "\n",
    "def generate_description(hid):\n",
    "    query = f\"\"\"\n",
    "    MATCH (h:Property {{hid: '{hid}'}})\n",
    "    OPTIONAL MATCH (h)-[:NEAR_STORE]->(s:Store)\n",
    "    RETURN h, collect(s) as stores\n",
    "    \"\"\"\n",
    "    result = graph.run(query).data()\n",
    "\n",
    "    if not result:\n",
    "        return \"未找到與該HID相關的房屋資料。\"\n",
    "\n",
    "    house_info = result[0]['h']\n",
    "    stores = result[0]['stores']\n",
    "    \n",
    "    descriptions = []\n",
    "\n",
    "    if house_info.get(\"address\"):\n",
    "        descriptions.append(f\"房屋地址位於{house_info['address']}。\")\n",
    "    if house_info.get(\"type\"):\n",
    "        descriptions.append(f\"該房屋類型為{house_info['type']}。\")\n",
    "    if house_info.get(\"pattern\"):\n",
    "        descriptions.append(f\"房屋格局為{house_info['pattern']}。\")\n",
    "    if house_info.get(\"size\"):\n",
    "        descriptions.append(f\"房屋大小為{house_info['size']}坪。\")\n",
    "    if house_info.get(\"layer\"):\n",
    "        descriptions.append(f\"樓層為{house_info['layer']}。\")\n",
    "    if house_info.get(\"price\"):\n",
    "        descriptions.append(f\"房屋租金為{house_info['price']}元。\")\n",
    "    if house_info.get(\"subway\"):\n",
    "        descriptions.append(f\"距離最近的捷運站為{house_info['subway']}。\")\n",
    "    if house_info.get(\"bus\"):\n",
    "        descriptions.append(f\"附近的公車站包括{house_info['bus']}。\")\n",
    "\n",
    "    if stores:\n",
    "        store_names = [store.get('name') for store in stores if store.get('name')]\n",
    "        if store_names:\n",
    "            descriptions.append(f\"附近有以下店家：{', '.join(store_names)}。\")\n",
    "\n",
    "    return \" \".join(descriptions)\n",
    "\n",
    "def gpt_analyze_input(hid, message):\n",
    "    try:\n",
    "        description = generate_description(hid)\n",
    "        if \"未找到與該HID相關的房屋資料\" in description:\n",
    "            return description\n",
    "\n",
    "        prompt = f\"以下是房屋的相關資訊：\\n{description}\\n\\n使用者提問：{message}\\n\\n請根據房屋資訊和使用者提問提供適當的回覆。\"\n",
    "\n",
    "        response = openai.ChatCompletion.create(\n",
    "            model=\"gpt-3.5-turbo-16k\",\n",
    "            messages=[\n",
    "                {\"role\": \"system\", \"content\": \"你是一個專業的房屋中介助手，能夠回答租屋相關問題，並幫助查找房屋。如果對於使用者的提問不確定如何回答，請表明自己也不確定並要求使用者自行詢問房東。且用繁體中文回答。\"},\n",
    "                {\"role\": \"user\", \"content\": prompt}\n",
    "            ]\n",
    "        )\n",
    "        return response['choices'][0]['message']['content']\n",
    "    except Exception as e:\n",
    "        print(f\"Error occurred: {e}\")\n",
    "        return \"在處理您的請求時發生錯誤。\"\n",
    "\n",
    "if __name__ == \"__main__\":\n",
    "    hid = input(\"輸入HID：\")\n",
    "    question = input(\"您的提問：\")\n",
    "    print(f\"您查詢的房屋物件為 {hid}\\n您提問的問題是 {question}\")\n",
    "    answer = gpt_analyze_input(hid, question)\n",
    "    if answer:\n",
    "        print(f\"{answer}\")\n",
    "    else:\n",
    "        print(\"沒有收到回答，發生錯誤。\")"
   ]
  },
  {
   "cell_type": "code",
   "execution_count": null,
   "id": "470ce318-ee0a-4ca3-a736-d649848cec47",
   "metadata": {},
   "outputs": [],
   "source": []
  }
 ],
 "metadata": {
  "kernelspec": {
   "display_name": "Python 3 (ipykernel)",
   "language": "python",
   "name": "python3"
  },
  "language_info": {
   "codemirror_mode": {
    "name": "ipython",
    "version": 3
   },
   "file_extension": ".py",
   "mimetype": "text/x-python",
   "name": "python",
   "nbconvert_exporter": "python",
   "pygments_lexer": "ipython3",
   "version": "3.11.7"
  }
 },
 "nbformat": 4,
 "nbformat_minor": 5
}
