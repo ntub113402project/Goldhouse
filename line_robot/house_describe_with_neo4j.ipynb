{
 "cells": [
  {
   "cell_type": "code",
   "execution_count": 3,
   "id": "cfe6fd72-9421-457c-8419-ba5e8415b808",
   "metadata": {},
   "outputs": [
    {
     "name": "stdout",
     "output_type": "stream",
     "text": [
      "Requirement already satisfied: py2neo in c:\\programdata\\anaconda3\\lib\\site-packages (2021.2.4)\n",
      "Requirement already satisfied: certifi in c:\\programdata\\anaconda3\\lib\\site-packages (from py2neo) (2024.2.2)\n",
      "Requirement already satisfied: interchange~=2021.0.4 in c:\\programdata\\anaconda3\\lib\\site-packages (from py2neo) (2021.0.4)\n",
      "Requirement already satisfied: monotonic in c:\\programdata\\anaconda3\\lib\\site-packages (from py2neo) (1.6)\n",
      "Requirement already satisfied: packaging in c:\\programdata\\anaconda3\\lib\\site-packages (from py2neo) (23.1)\n",
      "Requirement already satisfied: pansi>=2020.7.3 in c:\\programdata\\anaconda3\\lib\\site-packages (from py2neo) (2020.7.3)\n",
      "Requirement already satisfied: pygments>=2.0.0 in c:\\programdata\\anaconda3\\lib\\site-packages (from py2neo) (2.15.1)\n",
      "Requirement already satisfied: six>=1.15.0 in c:\\programdata\\anaconda3\\lib\\site-packages (from py2neo) (1.16.0)\n",
      "Requirement already satisfied: urllib3 in c:\\programdata\\anaconda3\\lib\\site-packages (from py2neo) (2.0.7)\n",
      "Requirement already satisfied: pytz in c:\\programdata\\anaconda3\\lib\\site-packages (from interchange~=2021.0.4->py2neo) (2023.3.post1)\n",
      "Note: you may need to restart the kernel to use updated packages.\n"
     ]
    }
   ],
   "source": [
    "pip install py2neo"
   ]
  },
  {
   "cell_type": "code",
   "execution_count": 29,
   "id": "f9acccd2-2558-4fb9-b496-7114518446f1",
   "metadata": {},
   "outputs": [
    {
     "name": "stdout",
     "output_type": "stream",
     "text": [
      "請輸入HID： 16343386\n"
     ]
    },
    {
     "name": "stdout",
     "output_type": "stream",
     "text": [
      "房屋地址位於士林區重慶北路四段。 該房屋類型為公寓。 房屋格局為2房1廳1衛。 房屋大小為24坪。 樓層為5F/5F。 房屋租金為19999元。 距離最近的地鐵站為距劍潭站1394公尺。 附近的公車站包括距社子消防分隊站539公尺, 距社子派出所站765公尺。 附近有以下店家：醫院, 便利商店, 百貨公司, 夜市, 公園, 傳統市場。\n"
     ]
    }
   ],
   "source": [
    "from py2neo import Graph\n",
    "\n",
    "graph = Graph(\"bolt://localhost:7687\", auth=(\"neo4j\", \"12345678\"))\n",
    "\n",
    "def generate_description(hid):\n",
    "    query = f\"\"\"\n",
    "    MATCH (h:Property {{hid: '{hid}'}})\n",
    "    OPTIONAL MATCH (h)-[:NEAR_STORE]->(s:Store)\n",
    "    RETURN h, collect(s) as stores\n",
    "    \"\"\"\n",
    "    result = graph.run(query).data()\n",
    "\n",
    "    if not result:\n",
    "        return \"未找到與該HID相關的房屋資料。\"\n",
    "\n",
    "    house_info = result[0]['h']\n",
    "    stores = result[0]['stores']\n",
    "    \n",
    "    descriptions = []\n",
    "\n",
    "    if house_info.get(\"address\"):\n",
    "        descriptions.append(f\"房屋地址位於{house_info['address']}。\")\n",
    "    if house_info.get(\"type\"):\n",
    "        descriptions.append(f\"該房屋類型為{house_info['type']}。\")\n",
    "    if house_info.get(\"pattern\"):\n",
    "        descriptions.append(f\"房屋格局為{house_info['pattern']}。\")\n",
    "    if house_info.get(\"size\"):\n",
    "        descriptions.append(f\"房屋大小為{house_info['size']}坪。\")\n",
    "    if house_info.get(\"layer\"):\n",
    "        descriptions.append(f\"樓層為{house_info['layer']}。\")\n",
    "    if house_info.get(\"price\"):\n",
    "        descriptions.append(f\"房屋租金為{house_info['price']}元。\")\n",
    "    if house_info.get(\"subway\"):\n",
    "        descriptions.append(f\"距離最近的地鐵站為{house_info['subway']}。\")\n",
    "    if house_info.get(\"bus\"):\n",
    "        descriptions.append(f\"附近的公車站包括{house_info['bus']}。\")\n",
    "\n",
    "    if stores:\n",
    "        store_names = [store.get('name') for store in stores if store.get('name')]\n",
    "        if store_names:\n",
    "            descriptions.append(f\"附近有以下店家：{', '.join(store_names)}。\")\n",
    "\n",
    "    return \" \".join(descriptions)\n",
    "\n",
    "hid = input(\"請輸入HID：\")\n",
    "description = generate_description(hid)\n",
    "print(description)\n"
   ]
  },
  {
   "cell_type": "code",
   "execution_count": null,
   "id": "cf41c03f-e17c-4475-a067-3aa0a672ff19",
   "metadata": {},
   "outputs": [],
   "source": []
  }
 ],
 "metadata": {
  "kernelspec": {
   "display_name": "Python 3 (ipykernel)",
   "language": "python",
   "name": "python3"
  },
  "language_info": {
   "codemirror_mode": {
    "name": "ipython",
    "version": 3
   },
   "file_extension": ".py",
   "mimetype": "text/x-python",
   "name": "python",
   "nbconvert_exporter": "python",
   "pygments_lexer": "ipython3",
   "version": "3.11.7"
  }
 },
 "nbformat": 4,
 "nbformat_minor": 5
}
